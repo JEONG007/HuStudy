{
 "cells": [
  {
   "cell_type": "markdown",
   "id": "c79c9948",
   "metadata": {},
   "source": [
    "### 1. 화씨온도 -> 섭씨온도  \n",
    "화씨온도(℉)를 입력 받아서 섭씨온도(℃)로 바꾸는 프로그램을 작성하시오.  \n",
    "- C = (F-32)*5/9"
   ]
  },
  {
   "cell_type": "code",
   "execution_count": 5,
   "id": "857572cc",
   "metadata": {},
   "outputs": [
    {
     "name": "stdout",
     "output_type": "stream",
     "text": [
      "100\n",
      "섭씨온도 : 37.777778\n"
     ]
    }
   ],
   "source": [
    "F = float(input())\n",
    "C = (F-32)*5/9\n",
    "\n",
    "print(\"섭씨온도 : %f\" % C)"
   ]
  },
  {
   "cell_type": "markdown",
   "id": "9e2fca95",
   "metadata": {},
   "source": [
    "### 2. 자동 판매기 프로그램  \n",
    "사용자로부터 투입한 돈과 물건 값을 입력 받아, 잔돈을 게산하여 출력한다.  \n",
    "단, 동전의 개수는 최소화 할 것  \n",
    "- 물건 값은 100원 단위  \n",
    "- 자판기의 동전은 500원, 100원만 있음"
   ]
  },
  {
   "cell_type": "code",
   "execution_count": 11,
   "id": "3ec7c88b",
   "metadata": {},
   "outputs": [
    {
     "name": "stdout",
     "output_type": "stream",
     "text": [
      "투입한 돈 : 5000\n",
      "물건 값 : 2700\n",
      "잔돈 : 2300\n",
      "500원 : 4개\n",
      "100원 : 3개\n"
     ]
    }
   ],
   "source": [
    "money = int(input(\"투입한 돈 : \"))\n",
    "price = int(input(\"물건 값 : \"))\n",
    "\n",
    "change = money-price\n",
    "n500 = change/500\n",
    "n100 = change%500/100\n",
    "\n",
    "print(\"잔돈 : %d\" % change)\n",
    "print(\"500원 : %d개\" %n500)\n",
    "print(\"100원 : %d개\" %n100)"
   ]
  },
  {
   "cell_type": "markdown",
   "id": "22c916e2",
   "metadata": {},
   "source": [
    "### 3. 원의 둘레와 넓이 구하기\n",
    "원의 반지름 r을 입력 받아, 원의 둘레와 넓이를 구하는 프로그램을 작성하시오.  \n",
    "- 원 둘레 : 2πr(단, π는 3.141592)  \n",
    "- 원 넓이 : πr²"
   ]
  },
  {
   "cell_type": "code",
   "execution_count": 17,
   "id": "25414209",
   "metadata": {},
   "outputs": [
    {
     "name": "stdout",
     "output_type": "stream",
     "text": [
      "반지름을 입력하시오 : 5\n",
      "원 둘레 : 31.42\n",
      "원 넓이 : 78.54\n"
     ]
    }
   ],
   "source": [
    "r = float(input(\"반지름을 입력하시오 : \"))\n",
    "pi = 3.141592\n",
    "\n",
    "result1 = 2*pi*r\n",
    "result2 = pi*r**2\n",
    "\n",
    "print(\"원 둘레 : %.2f\" % result1)\n",
    "print(\"원 넓이 : %.2f\" % result2)"
   ]
  },
  {
   "cell_type": "markdown",
   "id": "1d8ff2e8",
   "metadata": {},
   "source": [
    "### 4. 사칙연산\n",
    "2개의 정수를 입력 받아, 사칙연산 및 나머지 연산의 결과를 아래와 같이 출력하는 프로그램을 작성하시오.  \n",
    "  \n",
    "Enter two integers : __8 5__  \n",
    "8 + 5 = 13  \n",
    "8 - 5 = 3  \n",
    "8 * 5 = 40  \n",
    "8 / 5 = 1.6  \n",
    "8 % 5 = 3"
   ]
  },
  {
   "cell_type": "code",
   "execution_count": 31,
   "id": "550c3918",
   "metadata": {},
   "outputs": [
    {
     "name": "stdout",
     "output_type": "stream",
     "text": [
      "Enter two integers : 8 5\n",
      "8 + 5 = 13\n",
      "8 - 5 = 3\n",
      "8 * 5 = 40\n",
      "8 / 5 = 1.6\n",
      "8 % 5 = 3\n"
     ]
    }
   ],
   "source": [
    "a, b = map(int,input(\"Enter two integers : \").split())\n",
    "print(\"%d + %d = %d\" %(a, b, a+b))\n",
    "print(\"%d - %d = %d\" %(a, b, a-b))\n",
    "print(\"%d * %d = %d\" %(a, b, a*b))\n",
    "print(\"%d / %d = %.1f\" %(a, b, a/b))\n",
    "print(\"%d %% %d = %d\" %(a, b, a%b))"
   ]
  },
  {
   "cell_type": "markdown",
   "id": "bf7eec74",
   "metadata": {},
   "source": [
    "### 5. 합과 평균\n",
    "두 정수를 입력 받아, 합과 평균을 구하여 출력하는 프로그램을 작성하시오.  \n",
    "(평균 소수 첫째 자리까지 나타내기)  \n",
    "  \n",
    "Enter two integers: __70 91__  \n",
    "The sum of 70 and 91 is 161  \n",
    "The average of numbers is 80.5"
   ]
  },
  {
   "cell_type": "code",
   "execution_count": 35,
   "id": "f3df707a",
   "metadata": {},
   "outputs": [
    {
     "name": "stdout",
     "output_type": "stream",
     "text": [
      "Enter two integers : 70 91\n",
      "The sum of 70 and 91 is 161\n",
      "The average of numbers is 80.5\n"
     ]
    }
   ],
   "source": [
    "a, b = map(int, input(\"Enter two integers : \").split())\n",
    "print(\"The sum of %d and %d is %d\" %(a,b,a+b))\n",
    "print(\"The average of numbers is %.1f\"%((a+b)/2))"
   ]
  },
  {
   "cell_type": "markdown",
   "id": "bedd024f",
   "metadata": {},
   "source": [
    "### 6. 10년 후\n",
    "아래의 실행예제를 참고하여 프로그램을 작성하라.  \n",
    "\n",
    "날짜(연/월/일)입력 : __2021/03/15__  \n",
    "입력한 날짜의 10년 후는 2031년 3월 15일"
   ]
  },
  {
   "cell_type": "code",
   "execution_count": 37,
   "id": "11d5c791",
   "metadata": {},
   "outputs": [
    {
     "name": "stdout",
     "output_type": "stream",
     "text": [
      "날짜(연/월/일)입력 : 2021/03/15\n",
      "입력한 날짜의 10년 후는 2031년 3월 15일\n"
     ]
    }
   ],
   "source": [
    "y, m, d = map(int, input(\"날짜(연/월/일)입력 : \").split('/'))\n",
    "print(\"입력한 날짜의 10년 후는 %d년 %d월 %d일\" %(y+10,m,d))"
   ]
  }
 ],
 "metadata": {
  "kernelspec": {
   "display_name": "Python 3",
   "language": "python",
   "name": "python3"
  },
  "language_info": {
   "codemirror_mode": {
    "name": "ipython",
    "version": 3
   },
   "file_extension": ".py",
   "mimetype": "text/x-python",
   "name": "python",
   "nbconvert_exporter": "python",
   "pygments_lexer": "ipython3",
   "version": "3.8.8"
  }
 },
 "nbformat": 4,
 "nbformat_minor": 5
}
