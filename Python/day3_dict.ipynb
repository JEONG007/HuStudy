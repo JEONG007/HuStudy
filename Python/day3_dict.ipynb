{
 "cells": [
  {
   "cell_type": "markdown",
   "id": "109ee3d7",
   "metadata": {},
   "source": [
    "## 딕셔너리(dict)\n",
    "중괄호{ }로 묶여 있으며, key와 value의 쌍으로 이루어짐.  \n",
    "d = {key1 : value1, key2 : value2}"
   ]
  },
  {
   "cell_type": "markdown",
   "id": "9a0df3e0",
   "metadata": {},
   "source": [
    "__문제1) for문을 사용하여 딕셔너리 타입의 d의 모든 value를 출력해 보시오.__  \n",
    "d = {'youn' : 1, 'park' : 2, 'kim' : 10}  \n",
    "  \n",
    "1 2 10"
   ]
  },
  {
   "cell_type": "code",
   "execution_count": 1,
   "id": "15af9e7d",
   "metadata": {},
   "outputs": [
    {
     "name": "stdout",
     "output_type": "stream",
     "text": [
      "1 2 10 "
     ]
    }
   ],
   "source": [
    "d = {'youn' : 1, 'park' : 2, 'kim' : 10}\n",
    "\n",
    "for key in d:\n",
    "    print(d[key], end = \" \")"
   ]
  },
  {
   "cell_type": "markdown",
   "id": "1a7e5463",
   "metadata": {},
   "source": [
    "__문제2) key의 알파벳을 기준으로 순서대로 (key, value)로 출력하시오.__  \n",
    "{'one' : 1, 'two' : 2, 'three' : 3, 'four' : 4, 'five':5}  \n",
    "  \n",
    "five 5  \n",
    "four 4  \n",
    "one 1  \n",
    "three 3  \n",
    "two 2"
   ]
  },
  {
   "cell_type": "code",
   "execution_count": 2,
   "id": "8a8d99b8",
   "metadata": {},
   "outputs": [
    {
     "name": "stdout",
     "output_type": "stream",
     "text": [
      "five 5\n",
      "four 4\n",
      "one 1\n",
      "three 3\n",
      "two 2\n"
     ]
    }
   ],
   "source": [
    "d = {'one' : 1, 'two' : 2, 'three' : 3, 'four' : 4, 'five':5}\n",
    "\n",
    "for key in sorted(d):\n",
    "    print(key, d[key])"
   ]
  },
  {
   "cell_type": "markdown",
   "id": "7447a7ce",
   "metadata": {},
   "source": [
    "__문제3) 어떤 문장을 입력 받으면 해당 문장에서 각 알파벳이 몇 개씩 나오는지 저장하는 딕셔너리를 만든 후, 아래와 같이 출력하시오.__  \n",
    "  \n",
    "Enter a sentence : __Python is fun!__  \n",
    "{'!': 1, ' ': 2, 'f': 1, 'i': 1, 'h': 1, 'o': 1, 'n': 2, 'P': 1, 's': 1, 'u': 1, 't': 1, 'y': 1}"
   ]
  },
  {
   "cell_type": "code",
   "execution_count": 4,
   "id": "d4774949",
   "metadata": {},
   "outputs": [
    {
     "name": "stdout",
     "output_type": "stream",
     "text": [
      "Enter a sentence : Python is fun!\n",
      "{'P': 1, 'y': 1, 't': 1, 'h': 1, 'o': 1, 'n': 2, ' ': 2, 'i': 1, 's': 1, 'f': 1, 'u': 1, '!': 1}\n"
     ]
    }
   ],
   "source": [
    "str = input(\"Enter a sentence : \")\n",
    "dic = dict()\n",
    "\n",
    "for key in str:\n",
    "    if(key in dic):\n",
    "        dic[key] += 1\n",
    "    else:\n",
    "        dic[key] = 1\n",
    "        \n",
    "print(dic)"
   ]
  }
 ],
 "metadata": {
  "kernelspec": {
   "display_name": "Python 3",
   "language": "python",
   "name": "python3"
  },
  "language_info": {
   "codemirror_mode": {
    "name": "ipython",
    "version": 3
   },
   "file_extension": ".py",
   "mimetype": "text/x-python",
   "name": "python",
   "nbconvert_exporter": "python",
   "pygments_lexer": "ipython3",
   "version": "3.8.8"
  }
 },
 "nbformat": 4,
 "nbformat_minor": 5
}
