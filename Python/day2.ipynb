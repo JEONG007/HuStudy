{
 "cells": [
  {
   "cell_type": "markdown",
   "id": "4974e063",
   "metadata": {},
   "source": [
    "## 1. 조건문(if)"
   ]
  },
  {
   "cell_type": "markdown",
   "id": "074eecec",
   "metadata": {},
   "source": [
    "__문제1) 입력 받은 정수가 짝수인지 홀수 인지 판별__  \n",
    "\n",
    "Enter a number : __7__  \n",
    "7 is Odd number\n",
    "\n",
    "Enter a number : __14__  \n",
    "14 is Even number"
   ]
  },
  {
   "cell_type": "code",
   "execution_count": 4,
   "id": "08308e35",
   "metadata": {},
   "outputs": [
    {
     "name": "stdout",
     "output_type": "stream",
     "text": [
      "Enter a number : 14\n",
      "14 is Even number\n"
     ]
    }
   ],
   "source": [
    "num = int(input(\"Enter a number : \"))\n",
    "\n",
    "if num % 2 == 0:\n",
    "    print(\"%d is Even number\" % num)\n",
    "else:\n",
    "    print(\"%d is Odd number\" % num)"
   ]
  },
  {
   "cell_type": "markdown",
   "id": "16daed1d",
   "metadata": {},
   "source": [
    "__문제2) 프로그래밍 과목의 중간고사와 기말고사 점수를 입력 받아 평균과 학점을 구하는 프로그램을 작성하시오.__  \n",
    "  \n",
    "- 평균이 90 이상 : A\n",
    "- 80 이상~90 미만 : B\n",
    "- 70 이상~80 미만 : C\n",
    "- 60 이상~70 미만 : D\n",
    "- 60 미만 : F\n",
    "\n",
    "Enter your midterm score : __77__  \n",
    "Enter your final score : __56__  \n",
    "Average : 66.5  \n",
    "Grade : D"
   ]
  },
  {
   "cell_type": "code",
   "execution_count": 7,
   "id": "6c9c7a4c",
   "metadata": {},
   "outputs": [
    {
     "name": "stdout",
     "output_type": "stream",
     "text": [
      "Enter your midterm score : 77\n",
      "Enter your final score : 56\n",
      "Average : 66.5\n",
      "Grade : D\n"
     ]
    }
   ],
   "source": [
    "mid = int(input(\"Enter your midterm score : \"))\n",
    "fin = int(input(\"Enter your final score : \"))\n",
    "\n",
    "avg = (mid + fin)/2\n",
    "print(\"Average : %.1f\" % avg)\n",
    "\n",
    "if avg >= 90:\n",
    "    print(\"Grade : A\")\n",
    "elif 90 > avg >= 80:\n",
    "    print(\"Grade : B\")\n",
    "elif 80 > avg >= 70:\n",
    "    print(\"Grade : C\")\n",
    "elif 70 > avg >= 60:\n",
    "    print(\"Grade : D\")\n",
    "else:\n",
    "    print(\"Grade : F\")"
   ]
  },
  {
   "cell_type": "markdown",
   "id": "6bb8f201",
   "metadata": {},
   "source": [
    "__문제3) 학생수준평가 시험에서 영어 점수와 수학 점수가 합해서 110점 이상이면 합격이다. 단, 각 점수가 40점 미만이면 불합격이다. 영어(eng), 수학(math)점수를 입력 받아 합격여부를 출력하는 프로그램을 작성하시오.__"
   ]
  },
  {
   "cell_type": "code",
   "execution_count": 10,
   "id": "d394c1da",
   "metadata": {},
   "outputs": [
    {
     "name": "stdout",
     "output_type": "stream",
     "text": [
      "영어 점수 입력 : 30\n",
      "수학 점수 입력 : 42\n",
      "불합격 : 총합 점수 부족\n"
     ]
    }
   ],
   "source": [
    "eng = int(input(\"영어 점수 입력 : \"))\n",
    "math = int(input(\"수학 점수 입력 : \"))\n",
    "\n",
    "if (eng+math) >= 110:\n",
    "    if eng < 40:\n",
    "        print(\"불합격 : 영어점수 부족\")\n",
    "    elif math < 40:\n",
    "        print(\"불합격 : 수학점수 부족\")\n",
    "    else:\n",
    "        print(\"합격\")\n",
    "else:\n",
    "    print(\"불합격 : 총합 점수 부족\")"
   ]
  },
  {
   "cell_type": "markdown",
   "id": "a152c883",
   "metadata": {},
   "source": [
    "__문제4) 세 개의 정수를 입력 받아, 가장 큰 수만 출력하는 프로그램을 작성하시오.(max 함수 사용하지 않고 구할 것)__  \n",
    "\n",
    "세 개의 수를 입력하시오 : __30 22 50__  \n",
    "가장 큰 수는 50입니다."
   ]
  },
  {
   "cell_type": "code",
   "execution_count": 12,
   "id": "0cdebdac",
   "metadata": {},
   "outputs": [
    {
     "name": "stdout",
     "output_type": "stream",
     "text": [
      "세 개의 수를 입력하시오 : 30 22 50\n",
      "가장 큰 수는 50입니다.\n"
     ]
    }
   ],
   "source": [
    "a, b, c = map(int, input(\"세 개의 수를 입력하시오 : \").split())\n",
    "\n",
    "if a >= b:\n",
    "    if a >= c:\n",
    "        max_num = a\n",
    "    else:\n",
    "        max_num = c\n",
    "else:\n",
    "    if b >= c:\n",
    "        max_num = b\n",
    "    else:\n",
    "        max_num = c\n",
    "        \n",
    "print(\"가장 큰 수는 %d입니다.\" % max_num)"
   ]
  },
  {
   "cell_type": "markdown",
   "id": "0a4eacbf",
   "metadata": {},
   "source": [
    "## 2. 반복문"
   ]
  },
  {
   "cell_type": "markdown",
   "id": "c6c47c07",
   "metadata": {},
   "source": [
    "__문제1) 단어(문자열)가 주어질 때, 아래와 같이 출력되도록 작성하시오.__  \n",
    "P<br>\n",
    "y<br>\n",
    "t<br>\n",
    "h<br>\n",
    "o<br>\n",
    "n"
   ]
  },
  {
   "cell_type": "code",
   "execution_count": 15,
   "id": "79fdd07e",
   "metadata": {},
   "outputs": [
    {
     "name": "stdout",
     "output_type": "stream",
     "text": [
      "P\n",
      "y\n",
      "t\n",
      "h\n",
      "o\n",
      "n\n"
     ]
    }
   ],
   "source": [
    "str = \"Python\"\n",
    "\n",
    "for i in str:\n",
    "    print(i)"
   ]
  },
  {
   "cell_type": "markdown",
   "id": "48443768",
   "metadata": {},
   "source": [
    "__문제2) 아래와 같이 출력되는 프로그램을 작성하시오.__  \n",
    "10, 9, 8, 7, 6, 5, 4, 3, 2, 1, Happy new year!!"
   ]
  },
  {
   "cell_type": "code",
   "execution_count": 18,
   "id": "da70300d",
   "metadata": {},
   "outputs": [
    {
     "name": "stdout",
     "output_type": "stream",
     "text": [
      "10, 9, 8, 7, 6, 5, 4, 3, 2, 1, Happy new year!!\n"
     ]
    }
   ],
   "source": [
    "for i in range(10, 0 , -1):\n",
    "    print(i, end = \", \")\n",
    "print(\"Happy new year!!\")"
   ]
  },
  {
   "cell_type": "markdown",
   "id": "c312473d",
   "metadata": {},
   "source": [
    "__문제3) 양의 두 정수 a,b를 입력 받아, a부터 b까지의 정수의 합을 구하여 출력하는 프로그램을 작성하시오.(for 또는 while을 이용할 것)__  \n",
    "단, a <= b를 만족하는 값만 고려한다.  \n",
    "\n",
    "Enter two integers : __5 10__  \n",
    "The sum from 5 to 10 is 45"
   ]
  },
  {
   "cell_type": "code",
   "execution_count": 20,
   "id": "817f0fc2",
   "metadata": {},
   "outputs": [
    {
     "name": "stdout",
     "output_type": "stream",
     "text": [
      "Enter two integers : 5 10\n",
      "The sum from 5 to 10 is 45\n"
     ]
    }
   ],
   "source": [
    "a, b = map(int, input(\"Enter two integers : \").split())\n",
    "sum = 0\n",
    "\n",
    "for i in range(a, b+1):\n",
    "    sum += i\n",
    "    \n",
    "print(\"The sum from %d to %d is %d\" %(a, b, sum))"
   ]
  },
  {
   "cell_type": "markdown",
   "id": "20307d9a",
   "metadata": {},
   "source": [
    "__문제4) 주어진 문자열에 문자a가 몇 개 있는지 구하는 프로그램을 작성하시오.(for문 사용할 것)__  \n",
    "테스트는 banana로 해보자."
   ]
  },
  {
   "cell_type": "code",
   "execution_count": 21,
   "id": "80128a7c",
   "metadata": {},
   "outputs": [
    {
     "name": "stdout",
     "output_type": "stream",
     "text": [
      "3\n"
     ]
    }
   ],
   "source": [
    "str = \"banana\"\n",
    "count = 0\n",
    "\n",
    "for i in str:\n",
    "    if(i == 'a'):\n",
    "        count += 1\n",
    "\n",
    "print(count)"
   ]
  },
  {
   "cell_type": "markdown",
   "id": "77c4ac44",
   "metadata": {},
   "source": [
    "__문제5) for문과 range()함수를 이용하여 다음과 같이 출력되도록 작성하시오.__  \n",
    "0 1 2 3 4 5 6 7 8 9  \n",
    "0 5 10 15 20 25 30 35 40 45 50  \n",
    "10 9 8 7 6 5 4 3 2 1"
   ]
  },
  {
   "cell_type": "code",
   "execution_count": 23,
   "id": "1131c0af",
   "metadata": {},
   "outputs": [
    {
     "name": "stdout",
     "output_type": "stream",
     "text": [
      "0 1 2 3 4 5 6 7 8 9 \n",
      "0 5 10 15 20 25 30 35 40 45 50 \n",
      "10 9 8 7 6 5 4 3 2 1 "
     ]
    }
   ],
   "source": [
    "for i in range(0, 10):\n",
    "    print(i, end = \" \")\n",
    "print()\n",
    "for i in range(0, 51, 5):\n",
    "    print(i, end = \" \")\n",
    "print()\n",
    "for i in range(10, 0, -1):\n",
    "    print(i, end = \" \")"
   ]
  },
  {
   "cell_type": "markdown",
   "id": "73bc8b47",
   "metadata": {},
   "source": [
    "__문제6) for문을 사용하여 리스트(colors)의 모든 내용을 출력하시오.(단, range()를 이용하지 않는다.)__  \n",
    "  \n",
    "red  \n",
    "green  \n",
    "blue"
   ]
  },
  {
   "cell_type": "code",
   "execution_count": 25,
   "id": "da680545",
   "metadata": {},
   "outputs": [
    {
     "name": "stdout",
     "output_type": "stream",
     "text": [
      "red\n",
      "green\n",
      "blue\n"
     ]
    }
   ],
   "source": [
    "colors = [\"red\", \"green\", \"blue\"]\n",
    "\n",
    "for i in colors:\n",
    "    print(i)"
   ]
  },
  {
   "cell_type": "markdown",
   "id": "3a60db48",
   "metadata": {},
   "source": [
    "__문제7) 리스트 a 전체를 반복해서 방문하되, 짝수만 출력하시오.(for문 사용)__  \n",
    "list = [1, 3, 4, 5, 6, 7, 8, 9, 10, 11, 12, 13]\n",
    "  \n",
    "4 6 8 10 12"
   ]
  },
  {
   "cell_type": "code",
   "execution_count": 26,
   "id": "1aa44e52",
   "metadata": {},
   "outputs": [
    {
     "name": "stdout",
     "output_type": "stream",
     "text": [
      "4 6 8 10 12 "
     ]
    }
   ],
   "source": [
    "list = [1, 3, 4, 5, 6, 7, 8, 9, 10, 11, 12, 13]\n",
    "\n",
    "for i in list:\n",
    "    if(i%2 == 0):\n",
    "        print(i, end = \" \")"
   ]
  },
  {
   "cell_type": "markdown",
   "id": "b23c5a8f",
   "metadata": {},
   "source": [
    "__문제8) 구구단 출력1__  \n",
    "  \n",
    "출력하고 싶은 단을 입력하세요 : __7__  \n",
    "7 * 1 = 7  \n",
    "7 * 2 = 14  \n",
    "7 * 3 = 21  \n",
    "7 * 4 = 28  \n",
    "7 * 5 = 35  \n",
    "7 * 6 = 42  \n",
    "7 * 7 = 49  \n",
    "7 * 8 = 56  \n",
    "7 * 9 = 63"
   ]
  },
  {
   "cell_type": "code",
   "execution_count": 27,
   "id": "cef57884",
   "metadata": {
    "scrolled": true
   },
   "outputs": [
    {
     "name": "stdout",
     "output_type": "stream",
     "text": [
      "출력하고 싶은 단을 입력하세요 : 7\n",
      "7 * 1 = 7\n",
      "7 * 2 = 14\n",
      "7 * 3 = 21\n",
      "7 * 4 = 28\n",
      "7 * 5 = 35\n",
      "7 * 6 = 42\n",
      "7 * 7 = 49\n",
      "7 * 8 = 56\n",
      "7 * 9 = 63\n"
     ]
    }
   ],
   "source": [
    "dan = int(input(\"출력하고 싶은 단을 입력하세요 : \"))\n",
    "\n",
    "for i in range(1, 10):\n",
    "    print(\"%d * %d = %d\" %(dan, i, dan*i))"
   ]
  },
  {
   "cell_type": "markdown",
   "id": "17cbf9f1",
   "metadata": {},
   "source": [
    "__문제9) 구구단 출력2 (중첩 반복문)__  \n",
    "  \n",
    "== 2단 ==  \n",
    "2 * 1 = 2  \n",
    "2 * 2 = 4  \n",
    "2 * 3 = 6  \n",
    "2 * 4 = 8  \n",
    "2 * 5 = 10  \n",
    "2 * 6 = 12  \n",
    "2 * 7 = 14  \n",
    "2 * 8 = 16  \n",
    "2 * 9 = 18  \n",
    "== 3단 ==  \n",
    "3 * 1 = 3  \n",
    "3 * 2 = 6  \n",
    "… 중략 …  \n",
    "9 * 6 = 54  \n",
    "9 * 7 = 63  \n",
    "9 * 8 = 72  \n",
    "9 * 9 = 81  "
   ]
  },
  {
   "cell_type": "code",
   "execution_count": 28,
   "id": "e3ef3c14",
   "metadata": {},
   "outputs": [
    {
     "name": "stdout",
     "output_type": "stream",
     "text": [
      "==2단==\n",
      "2 * 1 = 2\n",
      "2 * 2 = 4\n",
      "2 * 3 = 6\n",
      "2 * 4 = 8\n",
      "2 * 5 = 10\n",
      "2 * 6 = 12\n",
      "2 * 7 = 14\n",
      "2 * 8 = 16\n",
      "2 * 9 = 18\n",
      "==3단==\n",
      "3 * 1 = 3\n",
      "3 * 2 = 6\n",
      "3 * 3 = 9\n",
      "3 * 4 = 12\n",
      "3 * 5 = 15\n",
      "3 * 6 = 18\n",
      "3 * 7 = 21\n",
      "3 * 8 = 24\n",
      "3 * 9 = 27\n",
      "==4단==\n",
      "4 * 1 = 4\n",
      "4 * 2 = 8\n",
      "4 * 3 = 12\n",
      "4 * 4 = 16\n",
      "4 * 5 = 20\n",
      "4 * 6 = 24\n",
      "4 * 7 = 28\n",
      "4 * 8 = 32\n",
      "4 * 9 = 36\n",
      "==5단==\n",
      "5 * 1 = 5\n",
      "5 * 2 = 10\n",
      "5 * 3 = 15\n",
      "5 * 4 = 20\n",
      "5 * 5 = 25\n",
      "5 * 6 = 30\n",
      "5 * 7 = 35\n",
      "5 * 8 = 40\n",
      "5 * 9 = 45\n",
      "==6단==\n",
      "6 * 1 = 6\n",
      "6 * 2 = 12\n",
      "6 * 3 = 18\n",
      "6 * 4 = 24\n",
      "6 * 5 = 30\n",
      "6 * 6 = 36\n",
      "6 * 7 = 42\n",
      "6 * 8 = 48\n",
      "6 * 9 = 54\n",
      "==7단==\n",
      "7 * 1 = 7\n",
      "7 * 2 = 14\n",
      "7 * 3 = 21\n",
      "7 * 4 = 28\n",
      "7 * 5 = 35\n",
      "7 * 6 = 42\n",
      "7 * 7 = 49\n",
      "7 * 8 = 56\n",
      "7 * 9 = 63\n",
      "==8단==\n",
      "8 * 1 = 8\n",
      "8 * 2 = 16\n",
      "8 * 3 = 24\n",
      "8 * 4 = 32\n",
      "8 * 5 = 40\n",
      "8 * 6 = 48\n",
      "8 * 7 = 56\n",
      "8 * 8 = 64\n",
      "8 * 9 = 72\n",
      "==9단==\n",
      "9 * 1 = 9\n",
      "9 * 2 = 18\n",
      "9 * 3 = 27\n",
      "9 * 4 = 36\n",
      "9 * 5 = 45\n",
      "9 * 6 = 54\n",
      "9 * 7 = 63\n",
      "9 * 8 = 72\n",
      "9 * 9 = 81\n"
     ]
    }
   ],
   "source": [
    "for i in range(2, 10):\n",
    "    print(\"==%d단==\" % i)\n",
    "    for j in range(1, 10):\n",
    "        print(\"%d * %d = %d\" %(i, j , i*j))"
   ]
  },
  {
   "cell_type": "markdown",
   "id": "468979d4",
   "metadata": {},
   "source": [
    "__문제10) 구구단 출력2 (중첩 반복문)__"
   ]
  },
  {
   "cell_type": "code",
   "execution_count": 29,
   "id": "5420136d",
   "metadata": {
    "scrolled": true
   },
   "outputs": [
    {
     "name": "stdout",
     "output_type": "stream",
     "text": [
      "2 * 1 = 2 3 * 1 = 3 4 * 1 = 4 5 * 1 = 5 6 * 1 = 6 7 * 1 = 7 8 * 1 = 8 9 * 1 = 9 \n",
      "2 * 2 = 4 3 * 2 = 6 4 * 2 = 8 5 * 2 = 10 6 * 2 = 12 7 * 2 = 14 8 * 2 = 16 9 * 2 = 18 \n",
      "2 * 3 = 6 3 * 3 = 9 4 * 3 = 12 5 * 3 = 15 6 * 3 = 18 7 * 3 = 21 8 * 3 = 24 9 * 3 = 27 \n",
      "2 * 4 = 8 3 * 4 = 12 4 * 4 = 16 5 * 4 = 20 6 * 4 = 24 7 * 4 = 28 8 * 4 = 32 9 * 4 = 36 \n",
      "2 * 5 = 10 3 * 5 = 15 4 * 5 = 20 5 * 5 = 25 6 * 5 = 30 7 * 5 = 35 8 * 5 = 40 9 * 5 = 45 \n",
      "2 * 6 = 12 3 * 6 = 18 4 * 6 = 24 5 * 6 = 30 6 * 6 = 36 7 * 6 = 42 8 * 6 = 48 9 * 6 = 54 \n",
      "2 * 7 = 14 3 * 7 = 21 4 * 7 = 28 5 * 7 = 35 6 * 7 = 42 7 * 7 = 49 8 * 7 = 56 9 * 7 = 63 \n",
      "2 * 8 = 16 3 * 8 = 24 4 * 8 = 32 5 * 8 = 40 6 * 8 = 48 7 * 8 = 56 8 * 8 = 64 9 * 8 = 72 \n",
      "2 * 9 = 18 3 * 9 = 27 4 * 9 = 36 5 * 9 = 45 6 * 9 = 54 7 * 9 = 63 8 * 9 = 72 9 * 9 = 81 \n"
     ]
    }
   ],
   "source": [
    "for i in range(1, 10):\n",
    "    for j in range(2, 10):\n",
    "        print(\"%d * %d = %d\" %(j, i, i*j), end = \" \")\n",
    "    print()"
   ]
  },
  {
   "cell_type": "markdown",
   "id": "0a9ea9f6",
   "metadata": {},
   "source": [
    "__문제11) ★ 출력 프로그램__  \n",
    "  \n",
    "Input an integer : __3159__  \n",
    "★★★  \n",
    "★<br>\n",
    "★★★★★  \n",
    "★★★★★★★★★"
   ]
  },
  {
   "cell_type": "code",
   "execution_count": 32,
   "id": "6b8d4abe",
   "metadata": {},
   "outputs": [
    {
     "name": "stdout",
     "output_type": "stream",
     "text": [
      "Input an integer : 3159\n",
      "★★★\n",
      "★\n",
      "★★★★★\n",
      "★★★★★★★★★\n"
     ]
    }
   ],
   "source": [
    "num = input(\"Input an integer : \")\n",
    "for i in num:\n",
    "    print(\"★\"*int(i))"
   ]
  },
  {
   "cell_type": "markdown",
   "id": "3a2f9fc1",
   "metadata": {},
   "source": [
    "__문제12) \"done\"을 입력할 때까지 사용자로부터 숫자를 입력받아 리스트에 저장하고, \"done\"을 입력하면, 리스트의 평균, 최대값과 최소값을 출력하는 프로그램을 작성하시오.__  \n",
    "(힌트) sum(), max(), min() 함수를 사용  \n",
    "  \n",
    "Enter a number: __7__  \n",
    "Enter a number: __2__  \n",
    "Enter a number: __9__  \n",
    "Enter a number: __3__  \n",
    "Enter a number: __5__  \n",
    "Enter a number: __done__  \n",
    "[7.0, 2.0, 9.0, 3.0, 5.0]  \n",
    "Average: 5.2  \n",
    "Maximum: 9.0  \n",
    "Minimum: 2.0  "
   ]
  },
  {
   "cell_type": "code",
   "execution_count": 14,
   "id": "d42a9e12",
   "metadata": {},
   "outputs": [
    {
     "name": "stdout",
     "output_type": "stream",
     "text": [
      "Enter a number : 7\n",
      "Enter a number : 2\n",
      "Enter a number : 9\n",
      "Enter a number : 3\n",
      "Enter a number : 5\n",
      "Enter a number : done\n",
      "[7.0, 2.0, 9.0, 3.0, 5.0]\n",
      "Average : 5.2\n",
      "Maximum 9.0\n",
      "Minimum 2.0\n"
     ]
    }
   ],
   "source": [
    "nlist = list()\n",
    "\n",
    "while(True):\n",
    "    num = input(\"Enter a number : \")\n",
    "    if(num == \"done\"):\n",
    "        break\n",
    "    nlist.append(float(num))\n",
    "\n",
    "print(nlist)\n",
    "print(\"Average : %.1f\" % (sum(nlist)/len(nlist)))\n",
    "print(\"Maximum %.1f\" % max(nlist))\n",
    "print(\"Minimum %.1f\" % min(nlist))"
   ]
  }
 ],
 "metadata": {
  "kernelspec": {
   "display_name": "Python 3",
   "language": "python",
   "name": "python3"
  }
 },
 "nbformat": 4,
 "nbformat_minor": 5
}
