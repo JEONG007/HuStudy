{
 "cells": [
  {
   "cell_type": "markdown",
   "id": "f8d8f73d",
   "metadata": {},
   "source": [
    "## 파일"
   ]
  },
  {
   "cell_type": "markdown",
   "id": "a7f4adba",
   "metadata": {},
   "source": [
    "__문제1) 파일에 있는 각각의 단어 수 구하기__  \n",
    "  \n",
    "first line  \n",
    "second line  \n",
    "third line"
   ]
  },
  {
   "cell_type": "code",
   "execution_count": 1,
   "id": "1a21b71e",
   "metadata": {},
   "outputs": [
    {
     "name": "stdout",
     "output_type": "stream",
     "text": [
      "first 1\n",
      "line 3\n",
      "second 1\n",
      "third 1\n"
     ]
    }
   ],
   "source": [
    "fr = open(\"test.txt\",'r')\n",
    "dic = dict()\n",
    "\n",
    "for line in fr:\n",
    "    for word in line.split():\n",
    "        if word in dic:\n",
    "            dic[word] += 1\n",
    "        else:\n",
    "            dic[word] = 1\n",
    "\n",
    "fr.close()\n",
    "\n",
    "for key in dic:\n",
    "    print(key, dic[key])"
   ]
  },
  {
   "cell_type": "markdown",
   "id": "58fcb2d9",
   "metadata": {},
   "source": [
    "__문제2) 파일면을 입력 받아, 해당 파일을 한 줄씩 읽어 파일의 내용을 모두 대문자로 출력하는 프로그램을 작성하시오. 단, 파일이 없는 경우 \"파일이 존재하지 않는다\" 정도의 메시지를 출력할 것!__  \n",
    "  \n",
    "Enter a file name : __test.txt__  \n",
    "FIRST LINE  \n",
    "SECOND LINE  \n",
    "THIRD LINE"
   ]
  },
  {
   "cell_type": "code",
   "execution_count": 2,
   "id": "117f75e9",
   "metadata": {},
   "outputs": [
    {
     "name": "stdout",
     "output_type": "stream",
     "text": [
      "Enter a file name : test.txt\n",
      "FIRST LINE\n",
      "SECOND LINE\n",
      "THIRD LINE"
     ]
    }
   ],
   "source": [
    "import os\n",
    "\n",
    "file_name = input(\"Enter a file name : \")\n",
    "if os.path.exists(file_name):\n",
    "    fr = open(file_name, 'r')\n",
    "    for line in fr:\n",
    "        print(line.upper(),end=\"\")\n",
    "else:\n",
    "    print(\"해당 파일이 존재하지 않습니다.\")"
   ]
  },
  {
   "cell_type": "markdown",
   "id": "b742486c",
   "metadata": {},
   "source": [
    "__문제3) 아래의 score.txt를 읽어서 학생들의 성적을 처리하여 그 결과를 report.txt로 출력하는 프로그램을 작성하시오.__  \n",
    "- (총점) 중간고사 40%, 기말고사 60%\n",
    "- (학점기준)  \n",
    "총점이 90이상이면, A  \n",
    "80이상-90미만이면, B  \n",
    "70이상-80미만이면, C  \n",
    "60이상-70미만이면, D  \n",
    "60미만이면 F  \n",
    "- <score.txt> 예시  \n",
    "각 줄(line) 단위로 한 학생의 학번, 중간고사 점수, 기말고사 점수가 순서대로 기록되어 있다.  \n",
    "201901 89 78  \n",
    "201902 76 84  \n",
    "201903 67 42  \n",
    "201904 66 88  \n",
    "201905 98 99\n",
    "- <report.txt> 예시    \n",
    "학번, 중간고사, 기말고사, 총점(학점) 순으로 아래와 같이 출력하시오.  \n",
    "201901 89 78 82.4(B)  \n",
    "201902 76 84 80.8(B)  \n",
    "201903 67 42 52.0(F)  \n",
    "201904 66 88 79.2(C)  \n",
    "201905 98 99 98.6(A)"
   ]
  },
  {
   "cell_type": "code",
   "execution_count": 3,
   "id": "45d3e16e",
   "metadata": {},
   "outputs": [],
   "source": [
    "fr = open(\"score.txt\", 'r')\n",
    "fw = open(\"report.txt\", 'w')\n",
    "\n",
    "for line in fr:\n",
    "    stu = line.split()\n",
    "    avg = int(stu[1])*0.4 + int(stu[2])*0.6\n",
    "    \n",
    "    if avg >= 90:\n",
    "        grade = \"(A)\"\n",
    "    elif 90 > avg >= 80:\n",
    "        grade = \"(B)\"\n",
    "    elif 80 > avg >= 70:\n",
    "        grade = \"(C)\"\n",
    "    elif 70 > avg >= 60:\n",
    "        grade = \"(D)\"\n",
    "    else:\n",
    "        grade = \"(F)\"\n",
    "        \n",
    "    data = (\"%s %s %s %.1f %s\\n\" %(stu[0], stu[1], stu[2], avg, grade))\n",
    "    fw.write(data)\n"
   ]
  }
 ],
 "metadata": {
  "kernelspec": {
   "display_name": "Python 3",
   "language": "python",
   "name": "python3"
  },
  "language_info": {
   "codemirror_mode": {
    "name": "ipython",
    "version": 3
   },
   "file_extension": ".py",
   "mimetype": "text/x-python",
   "name": "python",
   "nbconvert_exporter": "python",
   "pygments_lexer": "ipython3",
   "version": "3.8.8"
  }
 },
 "nbformat": 4,
 "nbformat_minor": 5
}
