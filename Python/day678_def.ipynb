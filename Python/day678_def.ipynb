{
 "cells": [
  {
   "cell_type": "markdown",
   "id": "32846f0d",
   "metadata": {},
   "source": [
    "### 1. prime\n",
    "소수(Prime Number) 판단하는 함수 정의하기  \n",
    "- 소수이면, True 반환  \n",
    "- 소수가 아니면, False 반환"
   ]
  },
  {
   "cell_type": "code",
   "execution_count": 1,
   "id": "923d5294",
   "metadata": {},
   "outputs": [
    {
     "name": "stdout",
     "output_type": "stream",
     "text": [
      "13는(은) 소수가 아닙니다.\n",
      "15는(은) 소수입니다.\n"
     ]
    }
   ],
   "source": [
    "def check_prime(num):\n",
    "    for i in range(2, num):\n",
    "        if num % i == 0:\n",
    "            return True\n",
    "    return False\n",
    "\n",
    "def main():\n",
    "    a = 13\n",
    "    b = 15\n",
    "    \n",
    "    if check_prime(a):\n",
    "        print(str(a)+'는(은) 소수입니다.')\n",
    "    else:\n",
    "        print(str(a)+'는(은) 소수가 아닙니다.')\n",
    "    if check_prime(b):\n",
    "        print(str(b)+'는(은) 소수입니다.')\n",
    "    else:\n",
    "        print(str(b)+'는(은) 소수가 아닙니다.')\n",
    "\n",
    "main()"
   ]
  },
  {
   "cell_type": "markdown",
   "id": "3c3b0439",
   "metadata": {},
   "source": [
    "### 2. add_comma\n",
    "천 단위마다 쉼표(,) 추가하는 함수 정의하기  \n",
    "- 1000000(int)이면, '1,000,000'(str) 반환"
   ]
  },
  {
   "cell_type": "code",
   "execution_count": 12,
   "id": "99d5ba10",
   "metadata": {},
   "outputs": [
    {
     "name": "stdout",
     "output_type": "stream",
     "text": [
      "1,234\n",
      "12,345,678\n",
      "12\n"
     ]
    }
   ],
   "source": [
    "def add_comma(val):\n",
    "    result = str(val%1000)\n",
    "    val = val//1000\n",
    "    \n",
    "    while(val != 0):\n",
    "        result = str(val%1000) +\",\"+ result\n",
    "        val = val//1000\n",
    "        \n",
    "    return result\n",
    "    \n",
    "def main():\n",
    "    comma_added_1234 = add_comma(1234)\n",
    "    comma_added_12345678 = add_comma(12345678)\n",
    "    comma_added_12 = add_comma(12)\n",
    "    print(comma_added_1234) # '1,234'\n",
    "    print(comma_added_12345678) # '12,345,678'\n",
    "    print(comma_added_12) # '12'\n",
    "    \n",
    "main()"
   ]
  },
  {
   "cell_type": "code",
   "execution_count": 14,
   "id": "0ed6e10e",
   "metadata": {},
   "outputs": [
    {
     "name": "stdout",
     "output_type": "stream",
     "text": [
      "1,234\n",
      "12,345,678\n",
      "12\n"
     ]
    }
   ],
   "source": [
    "def add_comma(val):\n",
    "    val = list(str(val))\n",
    "    n = 0 #comma 개수\n",
    "    \n",
    "    for i in range(len(val)):\n",
    "        if( i % 3 == 0) & (i != 0):\n",
    "            val.insert(-i-n,\",\") # index -방향\n",
    "            n += 1\n",
    "            \n",
    "    return ''.join(val)\n",
    "    \n",
    "def main():\n",
    "    comma_added_1234 = add_comma(1234)\n",
    "    comma_added_12345678 = add_comma(12345678)\n",
    "    comma_added_12 = add_comma(12)\n",
    "    print(comma_added_1234) # '1,234'\n",
    "    print(comma_added_12345678) # '12,345,678'\n",
    "    print(comma_added_12) # '12'\n",
    "\n",
    "main()"
   ]
  },
  {
   "cell_type": "markdown",
   "id": "2a5722c3",
   "metadata": {},
   "source": [
    "### 3. tok\n",
    "전달받은 단어열의 n-gram을 구해주는 tokenize() 함수 정의하기"
   ]
  },
  {
   "cell_type": "code",
   "execution_count": 25,
   "id": "21b88f97",
   "metadata": {},
   "outputs": [
    {
     "name": "stdout",
     "output_type": "stream",
     "text": [
      "['There', 'was', 'a', 'farmer', 'who', 'had', 'a', 'dog']\n",
      "['There was', 'was a', 'a farmer', 'farmer who', 'who had', 'had a', 'a dog', 'dog .']\n"
     ]
    }
   ],
   "source": [
    "def tokenize(trg, N=1):\n",
    "    trg = trg.split()\n",
    "    tok_list = list()\n",
    "    \n",
    "    for index in range(len(trg)):\n",
    "        if(index != len(trg)-1):\n",
    "            tok_list.append(\" \".join(trg[index:index+N]))\n",
    "        \n",
    "    return tok_list\n",
    "\n",
    "def main():\n",
    "    a=\"There was a farmer who had a dog .\"\n",
    "    print(tokenize(a))\n",
    "    print(tokenize(a, 2))\n",
    "    \n",
    "main()"
   ]
  },
  {
   "cell_type": "markdown",
   "id": "82b70e79",
   "metadata": {},
   "source": [
    "### 4. mean_and_var\n",
    "여러 벡터를 전달받아, 평균(Mean)과 분산(Variance)을 구하는 함수 정의하기"
   ]
  },
  {
   "cell_type": "code",
   "execution_count": 27,
   "id": "f9d4b4a8",
   "metadata": {},
   "outputs": [
    {
     "name": "stdout",
     "output_type": "stream",
     "text": [
      "평균:  [0.5, 0.5]\n",
      "분산:  [0.16666666666666666, 0.16666666666666666]\n"
     ]
    }
   ],
   "source": [
    "def mean_and_var(*val):\n",
    "    m, var = [0,0], [0,0]\n",
    "    \n",
    "    for i in range(len(val)):\n",
    "        m[0] += val[i][0]\n",
    "        m[1] += val[i][1]\n",
    "    \n",
    "    m[0] /= len(val); m[1] /= len(val)\n",
    "    \n",
    "    for i in range(len(val)):\n",
    "        var[0] += (val[i][0] - m[0])**2\n",
    "        var[1] += (val[i][1] - m[1])**2\n",
    "        \n",
    "    var[0] /= len(val); var[1] /= len(val)\n",
    "    \n",
    "    return m, var\n",
    "    \n",
    "def main():\n",
    "    v1=(0, 1)\n",
    "    v2=(0.5, 0.5)\n",
    "    v3=(1, 0)\n",
    "    \n",
    "    m, var = mean_and_var(v1, v2, v3)\n",
    "    \n",
    "    print('평균: ', m)\n",
    "    print('분산: ', var)\n",
    "\n",
    "main()"
   ]
  }
 ],
 "metadata": {
  "kernelspec": {
   "display_name": "Python 3",
   "language": "python",
   "name": "python3"
  },
  "language_info": {
   "codemirror_mode": {
    "name": "ipython",
    "version": 3
   },
   "file_extension": ".py",
   "mimetype": "text/x-python",
   "name": "python",
   "nbconvert_exporter": "python",
   "pygments_lexer": "ipython3",
   "version": "3.8.8"
  }
 },
 "nbformat": 4,
 "nbformat_minor": 5
}
